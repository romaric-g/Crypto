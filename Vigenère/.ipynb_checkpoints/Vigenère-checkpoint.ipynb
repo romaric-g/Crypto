{
 "cells": [
  {
   "cell_type": "code",
   "execution_count": 9,
   "metadata": {},
   "outputs": [],
   "source": [
    "def vigenereOn(text, key):\n",
    "    initial = ''\n",
    "    chain = ''\n",
    "    currentKeyIndex = 0\n",
    "    \n",
    "    for c in text:\n",
    "        letter = c.lower()\n",
    "        i = ord(letter)\n",
    "        initial = initial + letter\n",
    "        decalage = ord(key[currentKeyIndex]) - 97\n",
    "        if i >= 97 and i <= 122:\n",
    "            i = i + decalage\n",
    "            while i > 122:\n",
    "                i = i - 25\n",
    "        chain = chain + chr(i)\n",
    "        \n",
    "        # next key index\n",
    "        currentKeyIndex += 1;\n",
    "        if (currentKeyIndex >= len(key)):\n",
    "            currentKeyIndex = 0\n",
    "\n",
    "    return chain, initial\n",
    "    "
   ]
  },
  {
   "cell_type": "code",
   "execution_count": 10,
   "metadata": {},
   "outputs": [],
   "source": [
    "def vigenereOff(text, key):\n",
    "    initial = ''\n",
    "    chain = ''\n",
    "    currentKeyIndex = 0\n",
    "    \n",
    "    for c in text:\n",
    "        letter = c.lower()\n",
    "        i = ord(letter)\n",
    "        initial = initial + letter\n",
    "        decalage = ord(key[currentKeyIndex]) - 97\n",
    "        if i >= 97 and i <= 122:\n",
    "            i = i - decalage\n",
    "            while i < 97:\n",
    "                i = i + 25\n",
    "        chain = chain + chr(i)\n",
    "        \n",
    "        # next key index\n",
    "        currentKeyIndex += 1;\n",
    "        if (currentKeyIndex >= len(key)):\n",
    "            currentKeyIndex = 0\n",
    "    return chain, initial"
   ]
  },
  {
   "cell_type": "code",
   "execution_count": 13,
   "metadata": {},
   "outputs": [
    {
     "name": "stdout",
     "output_type": "stream",
     "text": [
      "yutgyoj\n"
     ]
    }
   ],
   "source": [
    "chain, initial = vigenereOn(\"Romaric\", \"hg\")\n",
    "print(chain)"
   ]
  },
  {
   "cell_type": "code",
   "execution_count": 14,
   "metadata": {},
   "outputs": [
    {
     "name": "stdout",
     "output_type": "stream",
     "text": [
      "romaric\n"
     ]
    }
   ],
   "source": [
    "chain, initial = vigenereOff(\"yutgyoj\", \"hg\")\n",
    "print(chain)"
   ]
  },
  {
   "cell_type": "code",
   "execution_count": null,
   "metadata": {},
   "outputs": [],
   "source": []
  }
 ],
 "metadata": {
  "kernelspec": {
   "display_name": "Python 3",
   "language": "python",
   "name": "python3"
  },
  "language_info": {
   "codemirror_mode": {
    "name": "ipython",
    "version": 3
   },
   "file_extension": ".py",
   "mimetype": "text/x-python",
   "name": "python",
   "nbconvert_exporter": "python",
   "pygments_lexer": "ipython3",
   "version": "3.7.4"
  }
 },
 "nbformat": 4,
 "nbformat_minor": 2
}
