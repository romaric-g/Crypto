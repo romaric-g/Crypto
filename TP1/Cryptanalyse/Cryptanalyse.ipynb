{
 "cells": [
  {
   "cell_type": "markdown",
   "metadata": {},
   "source": [
    "# Chiffrement de César"
   ]
  },
  {
   "cell_type": "code",
   "execution_count": 125,
   "metadata": {},
   "outputs": [],
   "source": [
    "def cesarOff(content, decalage):\n",
    "    initial = ''\n",
    "    chain = ''\n",
    "    for c in content:\n",
    "        letter = c.lower()\n",
    "        i = ord(letter)\n",
    "        initial = initial + letter\n",
    "        if i >= 97 and i <= 122:\n",
    "            i = i - decalage\n",
    "            while i < 97:\n",
    "                i = i + 25\n",
    "        chain = chain + chr(i)\n",
    "    return chain, initial"
   ]
  },
  {
   "cell_type": "code",
   "execution_count": 126,
   "metadata": {},
   "outputs": [],
   "source": [
    "# min: 97\n",
    "# max: 122\n",
    "\n",
    "def calcFreqs(text):\n",
    "    freqs = dict()\n",
    "    for element in range(0, 26):\n",
    "        freqs[element] = 0\n",
    "    for l in text: \n",
    "        letter = l.lower()\n",
    "        i = ord(letter)\n",
    "        if i >= 97 and i <= 122:\n",
    "            index = i - 97\n",
    "            freqs[index] = freqs[index] + 1\n",
    "    return freqs"
   ]
  },
  {
   "cell_type": "code",
   "execution_count": 134,
   "metadata": {
    "scrolled": false
   },
   "outputs": [
    {
     "name": "stdout",
     "output_type": "stream",
     "text": [
      "INITIAL\n",
      " \n",
      "piw jsvkiw qsrhmivi wsrx yri ergmirri ywmri wtigmepmwii herw pi jsvkieki tev iwxeqteki hiw peqiw hi gsyxieyc, wmxyii herw pe zeppii hiw ywmriw e xlmivw, ir vikmsr eyzivkri-vlsri-eptiw.\n",
      "\n",
      "etviw ezsmv ixi ey czi wmigpi yr vsyix tymw yri tetixivmi ix yri wgmivmi, pi fexmqirx eggyimppi yri wsgmixi hi gsyxippivmi tvirerx tpegi ikepiqirx herw p'ywmri hy qed xsyxi tvsgli ix herw hiw exipmivw erriciw. wyfmwwerx hi tpimr jsyix pe gsrgyvvirgi ewmexmuyi ix pi hiqirekiqirx wyggiwwmj hiw irxvitvmwiw hi pe zeppii zivw pe tpemri tviw hiw wsvxmiw h'eyxsvsyxi, p'ywmri jivqi hijmrmxmziqirx hy nsyv ey pirhiqemr ir 1984 jmkierx pi xiqtw herw wiw exipmivw mrxivmiyvw ezig ippi. gix evvix fvyxep e pmiy uyipuyiw erriiw etviw pe jivqixyvi hi p'ywmri hy gviyc hi p'irjiv wmxyii e tvscmqmxi. pi wmxi iwx veglixi tev pe qemvmi hi xlmivw pe qiqi errii herw p'stxmuyi hi pi vilefmpmxiv ejmr h'ekverhmv pi qywii hi pe gsyxippivmi, qemw pi tvsnix iwx jmrepiqirx eferhsrri ey tvsjmx rsxeqqirx hi p'ywmri hy qed ix hi pe zeppii hiw vsyixw.\n",
      "\n",
      "tpegii ey gsiyv hi pe zeppii hiw ywmriw, e yr irhvsmx sy piw ksvkiw hi pe hyvsppi wsrx piw tpyw ixvsmxiw, p'ywmri iwx p'sfnix hi tpywmiyvw tvsnixw hi vilefmpmxexmsrw hsrx tpywmiyvw ywmriw srx hine jemx p'sfnix gsqqi gippi hy gviyc hi p'irjiv ir girxvi h'evx gsrxiqtsvemr sy gippi hy qed ir girxvi h'ictswmxmsrw xiqtsvemviw ix hi gsrjivirgiw.\n",
      "\n",
      "p'ywmri iwx mrwgvmxi ey xmxvi hiw qsryqirxw lmwxsvmuyiw hitymw 2002, ir qiqi xiqtw uyi p'ywmri hy qed.\n",
      " \n",
      " \n",
      " \n",
      " \n",
      "DECODED ( key= 4 )\n",
      " \n",
      "les forges mondiere sont une ancienne usine specialisee dans le forgeage par estampage des lames de couteaux, situee dans la vallee des usines a thiers, en region auvergne-rhone-alpes.\n",
      "\n",
      "apres avoir ete au xve siecle un rouet puis une papeterie et une scierie, le batiment accueille une societe de coutellerie prenant place egalement dans l'usine du may toute proche et dans des ateliers annexes. subissant de plein fouet la concurrence asiatique et le demenagement successif des entreprises de la vallee vers la plaine pres des sorties d'autoroute, l'usine ferme definitivement du jour au lendemain en 1984 figeant le temps dans ses ateliers interieurs avec elle. cet arret brutal a lieu quelques annees apres la fermeture de l'usine du creux de l'enfer situee a proximite. le site est rachete par la mairie de thiers la meme annee dans l'optique de le rehabiliter afin d'agrandir le musee de la coutellerie, mais le projet est finalement abandonne au profit notamment de l'usine du may et de la vallee des rouets.\n",
      "\n",
      "placee au coeur de la vallee des usines, a un endroit ou les gorges de la durolle sont les plus etroites, l'usine est l'objet de plusieurs projets de rehabilitations dont plusieurs usines ont deja fait l'objet comme celle du creux de l'enfer en centre d'art contemporain ou celle du may en centre d'expositions temporaires et de conferences.\n",
      "\n",
      "l'usine est inscrite au titre des monuments historiques depuis 2002, en meme temps que l'usine du may.\n"
     ]
    }
   ],
   "source": [
    "#freqsFr = (9.42, 1.02, 2.64, 3.39, 15.87, 0.95, 1.04, 0.77, 8.41, 0.89, 0.00, 5.34, 3.24, 7.15, 5.14, 2.86, 1.06, 6.46, 7.90, 7.26, 6.24, 2.15, 0.00, 0.30, 0.24, 0.32)\n",
    "#freqsFrSorted = [ i[0] for i in sorted(enumerate(freqsFr), key=lambda t: t[1])]\n",
    "\n",
    "mostPresentLetterFR = 4\n",
    "\n",
    "with open('cesar1_chiffre.txt') as f:\n",
    "    contents = f.read().lower()\n",
    "    \n",
    "    freqs = calcFreqs(contents)\n",
    "    freqsSorted = [ i[0] for i in sorted(freqs.items(), key=lambda t: t[1]) ]\n",
    "    mostPresentLetter = freqsSorted[len(freqsSorted) -1]\n",
    "    \n",
    "    key = mostPresentLetter - mostPresentLetterFR\n",
    "    decoded, initial = cesarOff(contents, key)\n",
    "            \n",
    "    print('INITIAL')\n",
    "    print(' ')\n",
    "    print(initial)\n",
    "    print(' ')\n",
    "    print(' ')\n",
    "    \n",
    "    print(' ')\n",
    "    print(' ')\n",
    "    print('DECODED ( key=',key, ')')\n",
    "    print(' ')\n",
    "    print(decoded)"
   ]
  }
 ],
 "metadata": {
  "kernelspec": {
   "display_name": "Python 3",
   "language": "python",
   "name": "python3"
  },
  "language_info": {
   "codemirror_mode": {
    "name": "ipython",
    "version": 3
   },
   "file_extension": ".py",
   "mimetype": "text/x-python",
   "name": "python",
   "nbconvert_exporter": "python",
   "pygments_lexer": "ipython3",
   "version": "3.7.4"
  }
 },
 "nbformat": 4,
 "nbformat_minor": 2
}
