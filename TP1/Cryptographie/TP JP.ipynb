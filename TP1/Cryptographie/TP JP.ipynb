{
 "cells": [
  {
   "cell_type": "markdown",
   "metadata": {},
   "source": [
    "#  Chiffrement de César"
   ]
  },
  {
   "cell_type": "markdown",
   "metadata": {},
   "source": [
    "## Encode file"
   ]
  },
  {
   "cell_type": "code",
   "execution_count": 2,
   "metadata": {},
   "outputs": [],
   "source": [
    "def cesarOn(file, decalage):\n",
    "    initial = ''\n",
    "    chain = ''\n",
    "    while True:\n",
    "        c = file.read(1)\n",
    "        if not c:\n",
    "          break\n",
    "        letter = c.lower()\n",
    "        i = ord(letter)\n",
    "        initial = initial + letter\n",
    "        if i >= 97 and i <= 122:\n",
    "            i = i + decalage\n",
    "            while i > 122:\n",
    "                i = i - 25\n",
    "        chain = chain + chr(i)\n",
    "    file.close()\n",
    "    return chain, initial"
   ]
  },
  {
   "cell_type": "code",
   "execution_count": 3,
   "metadata": {},
   "outputs": [
    {
     "name": "stdout",
     "output_type": "stream",
     "text": [
      "hur rbtyvgu kvxvdrqvn vg hur rbtyvgu-ynbtintr rqvhvcb cs hur sfrr cbyvbr rbpmpycdrqvn, kvxvdrqvn. scibqrq cb 15 wnbinfm 2001, vh vg hur svfgh rqvhvcb cs kvxvdrqvn\n"
     ]
    }
   ],
   "source": [
    "f = open(\"cesarfile.txt\", \"r\")\n",
    "cri, ini = cesarOn(f, 13)\n",
    "    \n",
    "print(cri)\n",
    "\n",
    "# Write new file\n",
    "with open('cesarfileencode.txt', 'a') as fp:\n",
    "    fp.truncate(0)\n",
    "    fp.write(cri)"
   ]
  },
  {
   "cell_type": "markdown",
   "metadata": {},
   "source": [
    "## Decode file"
   ]
  },
  {
   "cell_type": "code",
   "execution_count": 4,
   "metadata": {},
   "outputs": [],
   "source": [
    "def cesarOff(file, decalage):\n",
    "    initial = ''\n",
    "    chain = ''\n",
    "    while True:\n",
    "        c = file.read(1)\n",
    "        if not c:\n",
    "          break\n",
    "        letter = c.lower()\n",
    "        i = ord(letter)\n",
    "        initial = initial + letter\n",
    "        if i >= 97 and i <= 122:\n",
    "            i = i - decalage\n",
    "            while i < 97:\n",
    "                i = i + 25\n",
    "        chain = chain + chr(i)\n",
    "    file.close()\n",
    "    return chain, initial"
   ]
  },
  {
   "cell_type": "code",
   "execution_count": 5,
   "metadata": {},
   "outputs": [
    {
     "name": "stdout",
     "output_type": "stream",
     "text": [
      "the english wikipedia is the english-language edition of the free online encyclopedia, wikipedia. founded on 15 january 2001, it is the first edition of wikipedia\n"
     ]
    }
   ],
   "source": [
    "df = open(\"cesarfileencode.txt\", \"r\")\n",
    "decoded, ini = cesarOff(df, 13)\n",
    "\n",
    "print(decoded)"
   ]
  },
  {
   "cell_type": "code",
   "execution_count": 8,
   "metadata": {},
   "outputs": [],
   "source": [
    "f = open(\"cesar1.txt\", \"r\")\n",
    "cri, ini = cesarOn(f, 4)\n",
    "\n",
    "with open('cesar1_chiffre.txt', 'a') as fp:\n",
    "    fp.truncate(0)\n",
    "    fp.write(cri)"
   ]
  }
 ],
 "metadata": {
  "kernelspec": {
   "display_name": "Python 3",
   "language": "python",
   "name": "python3"
  },
  "language_info": {
   "codemirror_mode": {
    "name": "ipython",
    "version": 3
   },
   "file_extension": ".py",
   "mimetype": "text/x-python",
   "name": "python",
   "nbconvert_exporter": "python",
   "pygments_lexer": "ipython3",
   "version": "3.7.4"
  }
 },
 "nbformat": 4,
 "nbformat_minor": 2
}
