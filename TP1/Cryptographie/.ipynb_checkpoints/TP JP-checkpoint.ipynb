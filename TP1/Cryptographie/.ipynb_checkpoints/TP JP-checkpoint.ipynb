{
 "cells": [
  {
   "cell_type": "markdown",
   "metadata": {},
   "source": [
    "#  Chiffrement de César"
   ]
  },
  {
   "cell_type": "markdown",
   "metadata": {},
   "source": [
    "## Encode file"
   ]
  },
  {
   "cell_type": "code",
   "execution_count": 54,
   "metadata": {},
   "outputs": [],
   "source": [
    "def cesarOn(file, decalage):\n",
    "    initial = ''\n",
    "    chain = ''\n",
    "    while True:\n",
    "        c = file.read(1)\n",
    "        if not c:\n",
    "          break\n",
    "        letter = c.lower()\n",
    "        i = ord(letter)\n",
    "        initial = initial + letter\n",
    "        if i >= 97 and i <= 122:\n",
    "            i = i + decalage\n",
    "            while i > 122:\n",
    "                i = i - 25\n",
    "        chain = chain + chr(i)\n",
    "    file.close()\n",
    "    return chain, initial"
   ]
  },
  {
   "cell_type": "code",
   "execution_count": 62,
   "metadata": {},
   "outputs": [
    {
     "name": "stdout",
     "output_type": "stream",
     "text": [
      "mft gpshft npoejã¨sf tpou vof bodjfoof vtjof tqã©djbmjtã©f ebot mf gpshfbhf qbs ftubnqbhf eft mbnft ef dpvufbvy, tjuvã©f ebot mb wbmmã©f eft vtjoft ã  uijfst, fo sã©hjpo bvwfshof-siã´of-bmqft.\n"
     ]
    }
   ],
   "source": [
    "f = open(\"cesarfile.txt\", \"r\")\n",
    "cri, ini = cesarOn(f, 1)\n",
    "    \n",
    "print(cri)\n",
    "\n",
    "# Write new file\n",
    "with open('cesarfileencode.txt', 'a') as fp:\n",
    "    fp.truncate(0)\n",
    "    fp.write(cri)"
   ]
  },
  {
   "cell_type": "markdown",
   "metadata": {},
   "source": [
    "## Decode file"
   ]
  },
  {
   "cell_type": "code",
   "execution_count": 60,
   "metadata": {},
   "outputs": [],
   "source": [
    "def cesarOff(file, decalage):\n",
    "    initial = ''\n",
    "    chain = ''\n",
    "    while True:\n",
    "        c = file.read(1)\n",
    "        if not c:\n",
    "          break\n",
    "        letter = c.lower()\n",
    "        i = ord(letter)\n",
    "        initial = initial + letter\n",
    "        if i >= 97 and i <= 122:\n",
    "            i = i - decalage\n",
    "            while i < 97:\n",
    "                i = i + 25\n",
    "        chain = chain + chr(i)\n",
    "    file.close()\n",
    "    return chain, initial"
   ]
  },
  {
   "cell_type": "code",
   "execution_count": 63,
   "metadata": {},
   "outputs": [
    {
     "name": "stdout",
     "output_type": "stream",
     "text": [
      "les forges mondiã¨re sont une ancienne usine spã©cialisã©e dans le forgeage par estampage des lames de couteaux, situã©e dans la vallã©e des usines ã  thiers, en rã©gion auvergne-rhã´ne-alpes.\n"
     ]
    }
   ],
   "source": [
    "df = open(\"cesarfileencode.txt\", \"r\")\n",
    "decoded, ini = cesarOff(df, 1)\n",
    "\n",
    "print(decoded)"
   ]
  },
  {
   "cell_type": "code",
   "execution_count": null,
   "metadata": {},
   "outputs": [],
   "source": []
  }
 ],
 "metadata": {
  "kernelspec": {
   "display_name": "Python 3",
   "language": "python",
   "name": "python3"
  },
  "language_info": {
   "codemirror_mode": {
    "name": "ipython",
    "version": 3
   },
   "file_extension": ".py",
   "mimetype": "text/x-python",
   "name": "python",
   "nbconvert_exporter": "python",
   "pygments_lexer": "ipython3",
   "version": "3.7.4"
  }
 },
 "nbformat": 4,
 "nbformat_minor": 2
}
